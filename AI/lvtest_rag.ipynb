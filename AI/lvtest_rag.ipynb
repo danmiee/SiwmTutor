{
 "cells": [
  {
   "cell_type": "code",
   "execution_count": 19,
   "id": "c1b7cf9e",
   "metadata": {},
   "outputs": [],
   "source": [
    "# nest_asyncio는 Jupyter Notebook에서 asyncio 이벤트 루프를 다시 적용할 수 있게 합니다.\n",
    "import nest_asyncio\n",
    "\n",
    "nest_asyncio.apply()\n"
   ]
  },
  {
   "cell_type": "code",
   "execution_count": 9,
   "id": "5735a8bb",
   "metadata": {},
   "outputs": [],
   "source": [
    "# JSON 페이로드의 예상 구조를 정의하는 Pydantic 모델\n",
    "from pydantic import BaseModel\n",
    "\n",
    "class Query(BaseModel):\n",
    "  prompt: str\n",
    "  stroke: str\n",
    "  distance: int\n",
    "  speed: int\n",
    "  technique: str    "
   ]
  },
  {
   "cell_type": "code",
   "execution_count": 20,
   "id": "491c473f-9a42-4d1e-8ff3-116e53e68865",
   "metadata": {},
   "outputs": [],
   "source": [
    "# security 파일 불러오기\n",
    "import os\n",
    "import json\n",
    "\n",
    "def load_secrets():\n",
    "    # Jupyter Notebook에서는 __file__ 변수를 사용할 수 없으므로 os.getcwd()를 사용\n",
    "    script_dir = os.getcwd()\n",
    "    file_path = os.path.join(script_dir, '../test-security.json')  # 상대 경로 수정\n",
    "    with open(file_path, 'r') as file:\n",
    "        return json.load(file)\n"
   ]
  },
  {
   "cell_type": "code",
   "execution_count": 21,
   "id": "d2937807",
   "metadata": {},
   "outputs": [],
   "source": [
    "# llm 객체 생성\n",
    "from langchain.chat_models import ChatOpenAI\n",
    "\n",
    "def get_llm_model(name=\"gpt-4o-mini\"):\n",
    "    # llm 객체 생성\n",
    "    llm = ChatOpenAI(\n",
    "        temperature=0.1,  # 창의성 (0.0 ~ 2.0)\n",
    "        max_tokens=2048,  # 최대 토큰수\n",
    "        model_name=name,  # 모델명\n",
    "    )\n",
    "    return llm"
   ]
  },
  {
   "cell_type": "code",
   "execution_count": 22,
   "id": "3e588bfb",
   "metadata": {},
   "outputs": [],
   "source": [
    "# template을 이용하여 prompt 객체 생성\n",
    "from langchain.prompts import PromptTemplate\n",
    "\n",
    "def get_prompt():\n",
    "  # template 정의\n",
    "  template = \"\"\"\n",
    "    다음은 수영 영법별 수준을 평가하는 기준입니다. md 태그로 제공합니다.\n",
    "    -----\n",
    "      # 수영 루틴\n",
    "\n",
    "      ## 자유형\n",
    "\n",
    "      ### 거리 (50분 동안 완주 가능 거리)\n",
    "      - **초급**: 400m 보다 작음\n",
    "      - **중급**: 800m 보다 작음\n",
    "      - **상급**: 800m 와 같거나 큼\n",
    "\n",
    "      ### 속도 (50m 완주)\n",
    "      - **초급**: 60초 와 같거나 큼\n",
    "      - **중급**: 45초 보다 크거나 같고, 60초 보다 작음\n",
    "      - **상급**: 45초 보다 작음\n",
    "\n",
    "      ### Technique\n",
    "      - **초급**: 기본 자세\n",
    "      - **중급**: 양측 호흡, 사이드 턴\n",
    "      - **상급**: 플립 턴\n",
    "\n",
    "      ## 배영\n",
    "\n",
    "      ### 거리 (50분 동안 완주 가능 거리)\n",
    "      - **초급**: 300m 보다 작음\n",
    "      - **중급**: 500m 보다 작음\n",
    "      - **상급**: 500m 와 같거나 큼\n",
    "\n",
    "      ### 속도 (50m 완주)\n",
    "      - **초급**: 75초 와 같거나 큼\n",
    "      - **중급**: 55초 보다 크거나 같고, 75초 보다 작음\n",
    "      - **상급**: 55초 보다 작음\n",
    "\n",
    "      ### 기술\n",
    "      - **초급**: 기본 자세\n",
    "      - **중급**: 안정적 자세, 배영 턴\n",
    "      - **상급**: 크로스 오버 턴\n",
    "\n",
    "      ## 평영\n",
    "\n",
    "      ### 거리 (50분 동안 완주 가능 거리)\n",
    "      - **초급**: 300m 보다 작음\n",
    "      - **중급**: 500m 보다 작음\n",
    "      - **상급**: 500m 와 같거나 큼\n",
    "\n",
    "      ### 속도 (50m 완주)\n",
    "      - **초급**: 80초 와 같거나 큼\n",
    "      - **중급**: 60초 보다 크거나 같고, 80초 보다 작음\n",
    "      - **상급**: 60초 보다 작음\n",
    "\n",
    "      ### 기술\n",
    "      - **초급**: 글라이딩\n",
    "      - **중급**: 돌핀 킥\n",
    "      - **상급**: 물 속 스타트\n",
    "\n",
    "      ## 접영\n",
    "\n",
    "      ### 거리 (50분 동안 완주 가능 거리)\n",
    "      - **초급**: 100m 보다 작음\n",
    "      - **중급**: 300m 보다 작음\n",
    "      - **상급**: 300m 와 같거나 큼\n",
    "\n",
    "      ### 속도 (50m 완주)\n",
    "      - **초급**: 70초 와 같거나 큼\n",
    "      - **중급**: 50초 보다 크거나 같고, 70초 보다 작음\n",
    "      - **상급**: 50초 보다 작음\n",
    "\n",
    "      ### 기술\n",
    "      - **초급**: 한팔 접영\n",
    "      - **중급**: 양팔 접영\n",
    "      - **상급**: 무호흡 양팔 접영 (25m)\n",
    "\n",
    "      다음은 각 기준별 중요도를 퍼센테이지로 나타낸 것입니다.\n",
    "      # 중요도\n",
    "      - 거리: 40,\n",
    "      - 속도: 35,\n",
    "      - 기술: 25\n",
    "      -----\n",
    "      출력형식: JSON\n",
    "      json 속성: stroke, level, description\n",
    "      -----\n",
    "      instrcution: 위 기준을 참고하여 질의에 답변해 주세요. 만약 명확하지 않다면 판정불가 판정을 내려주세요.\n",
    "      ------\n",
    "      질문: {stroke}의 경우 50분 동안 {distance}미터를 수영할 수 있고 속도는 {speed}초입니다. 최근 {technique} 기술을 배웠습니다.\n",
    "    \"\"\"\n",
    "  prompt = PromptTemplate.from_template(template=template)\n",
    "  return prompt"
   ]
  },
  {
   "cell_type": "code",
   "execution_count": 23,
   "id": "71c959e0",
   "metadata": {},
   "outputs": [],
   "source": [
    "# llm chain 객체 생성\n",
    "from langchain.chains import LLMChain\n",
    "\n",
    "def get_llm_chain():\n",
    "  return LLMChain(prompt=get_prompt(), llm=get_llm_model())"
   ]
  },
  {
   "cell_type": "code",
   "execution_count": 24,
   "id": "c030604f",
   "metadata": {},
   "outputs": [
    {
     "name": "stderr",
     "output_type": "stream",
     "text": [
      "INFO:     Started server process [16320]\n",
      "INFO:     Waiting for application startup.\n",
      "INFO:     Application startup complete.\n",
      "INFO:     Uvicorn running on http://127.0.0.1:8000 (Press CTRL+C to quit)\n",
      "c:\\DevelopTools\\Python\\Lib\\site-packages\\langchain_core\\_api\\deprecation.py:139: LangChainDeprecationWarning: The class `ChatOpenAI` was deprecated in LangChain 0.0.10 and will be removed in 0.3.0. An updated version of the class exists in the langchain-openai package and should be used instead. To use it run `pip install -U langchain-openai` and import as `from langchain_openai import ChatOpenAI`.\n",
      "  warn_deprecated(\n",
      "c:\\DevelopTools\\Python\\Lib\\site-packages\\langchain_core\\_api\\deprecation.py:139: LangChainDeprecationWarning: The class `LLMChain` was deprecated in LangChain 0.1.17 and will be removed in 1.0. Use RunnableSequence, e.g., `prompt | llm` instead.\n",
      "  warn_deprecated(\n"
     ]
    },
    {
     "name": "stdout",
     "output_type": "stream",
     "text": [
      "INFO:     127.0.0.1:52568 - \"POST /prompt/ HTTP/1.1\" 200 OK\n"
     ]
    },
    {
     "name": "stderr",
     "output_type": "stream",
     "text": [
      "INFO:     Shutting down\n",
      "INFO:     Waiting for application shutdown.\n",
      "INFO:     Application shutdown complete.\n",
      "INFO:     Finished server process [16320]\n"
     ]
    }
   ],
   "source": [
    "from fastapi import FastAPI\n",
    "import uvicorn\n",
    "\n",
    "app = FastAPI()\n",
    "\n",
    "@app.post(\"/prompt/\")\n",
    "async def create_item(item: Query):\n",
    "  secrets = load_secrets()\n",
    "  os.environ['OPENAI_API_KEY'] = secrets['OPENAI_API_KEY']\n",
    "\n",
    "  # 연결된 체인(Chain) 객체 생성\n",
    "  llm_chain = get_llm_chain()\n",
    "\n",
    "  # llm_chain에 맞게 inputs 전달\n",
    "  response = llm_chain.invoke({\n",
    "      \"prompt\": item.prompt,\n",
    "      \"stroke\": item.stroke,\n",
    "      \"distance\": item.distance,\n",
    "      \"speed\": item.speed,\n",
    "      \"technique\": item.technique\n",
    "  })\n",
    "\n",
    "  return {\"completion\": response}\n",
    "\n",
    "if __name__ == \"__main__\":\n",
    "  uvicorn.run(app, host=\"localhost\", port=8000)\n"
   ]
  }
 ],
 "metadata": {
  "kernelspec": {
   "display_name": "Python 3 (ipykernel)",
   "language": "python",
   "name": "python3"
  },
  "language_info": {
   "codemirror_mode": {
    "name": "ipython",
    "version": 3
   },
   "file_extension": ".py",
   "mimetype": "text/x-python",
   "name": "python",
   "nbconvert_exporter": "python",
   "pygments_lexer": "ipython3",
   "version": "3.12.4"
  }
 },
 "nbformat": 4,
 "nbformat_minor": 5
}
